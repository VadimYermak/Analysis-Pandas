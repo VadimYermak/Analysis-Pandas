{
 "cells": [
  {
   "cell_type": "code",
   "execution_count": 1,
   "id": "3bade82b-bdf6-4f4f-bacc-8c30beaa55ec",
   "metadata": {},
   "outputs": [
    {
     "name": "stdout",
     "output_type": "stream",
     "text": [
      "ROI for an initial investment of $75000 now priced at $83750 is 0.11666666666666667 or  11.67%\n"
     ]
    }
   ],
   "source": [
    "# Current and initial values of the investment.\n",
    "initial_investment_value = 75000\n",
    "current_investment_value = 83750\n",
    "\n",
    "# ROI Calculation - calculating the gain or loss of the current value of the investment versus the initial value of that investment\n",
    "roi = (current_investment_value - initial_investment_value) / initial_investment_value\n",
    "\n",
    "# Converting the ROI calculation into a percentage by multiplying it by 100\n",
    "roi_pct = roi * 100\n",
    "\n",
    "# Printing the result of our ROI Calculation\n",
    "print(\n",
    "    f\"ROI for an initial investment of ${initial_investment_value} \"\n",
    "    f\"now priced at ${current_investment_value} is {roi} or {roi_pct: .2f}%\")"
   ]
  }
 ],
 "metadata": {
  "kernelspec": {
   "display_name": "Python 3 (ipykernel)",
   "language": "python",
   "name": "python3"
  },
  "language_info": {
   "codemirror_mode": {
    "name": "ipython",
    "version": 3
   },
   "file_extension": ".py",
   "mimetype": "text/x-python",
   "name": "python",
   "nbconvert_exporter": "python",
   "pygments_lexer": "ipython3",
   "version": "3.7.13"
  }
 },
 "nbformat": 4,
 "nbformat_minor": 5
}
